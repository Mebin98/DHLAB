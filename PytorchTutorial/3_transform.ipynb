{
 "cells": [
  {
   "cell_type": "code",
   "execution_count": 3,
   "id": "96dd6d98-d1cf-4c16-aa56-757bf9694852",
   "metadata": {},
   "outputs": [],
   "source": [
    "# Transform\n",
    "# 데이터가 항상 ML/DL 학습에 필요한 최종 처리가 된 형태로 제공되지는 않음\n",
    "# transform을 해서 데이터를 조작하고 학습을 적합하게 만든다. \n",
    "\n",
    "#모든 TorchVision 데이터셋들은 변형 로직을 갖는, \n",
    "# 호출 가능한 객체(callable)를 받는 매개변수 두개 \n",
    "# ( 특징(feature)을 변경하기 위한 transform 과 정답(label)을 변경하기 위한 target_transform )를 갖습니다.\n",
    "\n",
    "# 아래 MNIST 데이터셋은 feature가 PIL Image 형식, label은 integer 형식\n",
    "# 학습을 하려면 정규화된 텐서 형태의 feature와 원-핫으로 부호화된 텐서 형태의 정답이 필요하다. \n",
    "# 이러한 transformation을 하기 위해 ToTensor와 Lambda를 사용\n",
    "\n",
    "import torch\n",
    "from torchvision import datasets\n",
    "from torchvision.transforms import ToTensor, Lambda\n",
    "\n",
    "ds = datasets.FashionMNIST(\n",
    "    root=\"data\",\n",
    "    train=True,\n",
    "    download=True,\n",
    "    transform=ToTensor(),\n",
    "    target_transform=Lambda(lambda y: torch.zeros(10, \n",
    "        dtype=torch.float).scatter_(0, torch.tensor(y), value=1))\n",
    ")\n",
    "# ToTensor 는 PIL Image나 NumPy ndarray 를 FloatTensor 로 변환하고, \n",
    "# 이미지의 픽셀의 크기(intensity) 값을 [0., 1.] 범위로 비례하여 조정(scale)한다."
   ]
  },
  {
   "cell_type": "code",
   "execution_count": null,
   "id": "0dfd52cc-bfef-42c4-9796-3298c8987837",
   "metadata": {},
   "outputs": [],
   "source": [
    "# Lambda 변형은 사용자 정의 람다(lambda) 함수를 적용"
   ]
  }
 ],
 "metadata": {
  "kernelspec": {
   "display_name": "Python 3 (ipykernel)",
   "language": "python",
   "name": "python3"
  },
  "language_info": {
   "codemirror_mode": {
    "name": "ipython",
    "version": 3
   },
   "file_extension": ".py",
   "mimetype": "text/x-python",
   "name": "python",
   "nbconvert_exporter": "python",
   "pygments_lexer": "ipython3",
   "version": "3.8.10"
  }
 },
 "nbformat": 4,
 "nbformat_minor": 5
}
